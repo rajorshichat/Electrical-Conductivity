{
 "cells": [
  {
   "cell_type": "code",
   "execution_count": 1,
   "id": "594f2b57",
   "metadata": {},
   "outputs": [],
   "source": [
    "import subprocess\n",
    "import numpy as np\n",
    "import matplotlib.pyplot as plt\n",
    "import time\n",
    "from scipy.optimize import curve_fit\n",
    "import scipy.signal"
   ]
  },
  {
   "cell_type": "code",
   "execution_count": 17,
   "id": "daa82710",
   "metadata": {},
   "outputs": [],
   "source": [
    "def cond_lag_lim_vec_fast(cond_chunk,tstep,samp_freq,lag_len,vol,T):\n",
    "    \n",
    "    #conversion from LAMMPS real units to SI units\n",
    "    \n",
    "    e2coul = 1.6021*10**-19\n",
    "    ang2m = 1*10**-10\n",
    "    fs2s = 1*10**-15\n",
    "    curr_conv = (e2coul*ang2m)/fs2s\n",
    "    kB = 1.3806504e-23                         # in J/K\n",
    "    conv = ((curr_conv**2)*fs2s)/(ang2m**3)\n",
    "    \n",
    "    c = []\n",
    "    inte = []\n",
    "    \n",
    "    #sampling of charge current every lag_len timeteps\n",
    "    \n",
    "    shift = lag_len/samp_freq\n",
    "    a = np.arange(0,cond_chunk.shape[0],shift)\n",
    "    cond_x = np.array([cond_chunk[int(i)][0] for i in a])\n",
    "    cond_y = np.array([cond_chunk[int(i)][1] for i in a])\n",
    "    cond_z = np.array([cond_chunk[int(i)][2] for i in a])\n",
    "    \n",
    "    #main code to calculate autocorrelation of charge current followed by ensemble averaging \n",
    "    \n",
    "    acf_temp_x = scipy.signal.correlate(cond_x,cond_x)\n",
    "    acf_temp_y = scipy.signal.correlate(cond_y,cond_y)\n",
    "    acf_temp_z = scipy.signal.correlate(cond_z,cond_z)\n",
    "    \n",
    "    acf_x = np.flip(acf_temp_x[0:len(cond_x)])\n",
    "    acf_y = np.flip(acf_temp_y[0:len(cond_y)])\n",
    "    acf_z = np.flip(acf_temp_z[0:len(cond_z)])\n",
    "    acf_tot = acf_x + acf_y + acf_z\n",
    "    \n",
    "    norm = np.flip(np.arange(1,len(cond_x)+1,1))\n",
    "    acf_norm = acf_tot/norm\n",
    "    \n",
    "    #integration of autocorrelation function to calculate conductivity in SI units\n",
    "    \n",
    "    for i in range(len(acf_tot)):\n",
    "        temp = np.trapz(acf_norm[0:i+1],dx=(lag_len*tstep))\n",
    "        temp_c = (conv*temp)/(3*kB*T*vol)\n",
    "        inte.append(temp)\n",
    "        c.append(temp_c)\n",
    "       \n",
    "    return acf_norm,inte,c"
   ]
  },
  {
   "cell_type": "code",
   "execution_count": 18,
   "id": "12fc3742",
   "metadata": {},
   "outputs": [
    {
     "name": "stdout",
     "output_type": "stream",
     "text": [
      "Calculating for chunck 1\n",
      "Calculating for chunck 2\n"
     ]
    }
   ],
   "source": [
    "filename = '/Users/rajorshi/Desktop/CMD/Conductivity/Reaxff/673K_5GPa_new/Cond_lim/extract.txt'\n",
    "filename_prog = '/Users/rajorshi/Desktop/CMD/Conductivity/Reaxff/673K_5GPa_new/Cond_lim/output.out' #coord_lim_timechunk_laglen_laglim\n",
    "\n",
    "f_prog = open(filename_prog,'w')\n",
    "\n",
    "#load data into numpy arrays\n",
    "\n",
    "cond = np.loadtxt(filename,skiprows=2,usecols=(1,2,3))\n",
    "t = np.loadtxt(filename,skiprows=2,usecols=(0))\n",
    "    \n",
    "samp_freq = 2            #sampling frequency in timesteps\n",
    "lag_len = 2              #difference between successive lag times (in timesteps) where autocorrelation is calculated. Has to be multiple of sampling frequency\n",
    "time_chunk = 2           #input data is broken down into chunks of size time_chunk (in picosecond). Each chunk can then be used for analysis\n",
    "tstep = 0.5              #timestep of MD simulations\n",
    "\n",
    "#simulation parameters\n",
    "\n",
    "box_max = 28.496098      \n",
    "box_min = 3.5039283\n",
    "vol = (box_max-box_min)**3\n",
    "T = 673\n",
    "\n",
    "#extract charge current data from input file in chunks of size time_chunk and store them in dictionary\n",
    "\n",
    "steps = time_chunk*1000*(1/tstep)\n",
    "steps_arr = steps/samp_freq\n",
    "\n",
    "n_chunk = 2           #number of time chunks of size time_chunk for conductivity calculation. Important for assessing convergence wrt simulation length\n",
    "cond_chunk = {}\n",
    "start = int(len(cond)-steps_arr)\n",
    "end = int(len(cond))\n",
    "\n",
    "#number of timesteps in input.dat file must be atleast time_chunk*t_step*n_chunk\n",
    "while start>=0:\n",
    "    if start>0:\n",
    "        temp = cond[start-1:end][:]\n",
    "        cond_chunk.update({t[start-1]:temp})\n",
    "        end = int(start)\n",
    "        start = int(end - steps_arr)\n",
    "        \n",
    "count = 0\n",
    "\n",
    "#write out important simulation parameters in output file\n",
    "\n",
    "f_prog.write('Box size: max: '+str(box_max)+' min: '+str(box_min)+' in Ang'+'\\n')\n",
    "f_prog.write('Timestep: '+str(tstep)+'\\n')\n",
    "f_prog.write('T: '+str(T)+'\\n')\n",
    "\n",
    "#iterate over dictionary entries and calculate conductivity for n_chunk time chunks\n",
    "\n",
    "for key in cond_chunk.keys():\n",
    "    lag = 0\n",
    "    count = count + 1\n",
    "    \n",
    "    if count <= n_chunk:\n",
    "        print('Calculating for chunck {0}'.format(count))\n",
    "        \n",
    "        acf_norm,inte,c = cond_lag_lim_vec_fast(cond_chunk[key],tstep,samp_freq,lag_len,vol,T)\n",
    "        f_prog.write('Chunk '+str(count)+' of size '+str(time_chunk)+'ps'+'\\n')\n",
    "        f_prog.write('Start time: '+str((int(key)*tstep)/1000)+'ps'+'\\n')\n",
    "        f_prog.write('Lag'+'    '+'Lag (in ps)'+'     '+'Auto-correlation'+'     '+'Integral(acf)'+'        '+'Conductivity'+'\\n')\n",
    "        for i in range(len(acf_norm)):\n",
    "            f_prog.write(str(lag)+'      '+str((lag*tstep)/1000)+'          '+str(acf_norm[i])+'    '+str(inte[i])+'    '+str(c[i])+'\\n') \n",
    "            lag = lag + lag_len\n",
    "        \n",
    "f_prog.close()"
   ]
  },
  {
   "cell_type": "code",
   "execution_count": 9,
   "id": "1b30448e",
   "metadata": {},
   "outputs": [
    {
     "data": {
      "text/plain": [
       "{4000.0: array([[-0.00045628,  0.00175135, -0.00638087],\n",
       "        [-0.00060776,  0.00192278, -0.0063045 ],\n",
       "        [-0.00071462,  0.00208482, -0.00626338],\n",
       "        ...,\n",
       "        [ 0.00809489,  0.00630526, -0.00121903],\n",
       "        [ 0.00792413,  0.00613389, -0.00121748],\n",
       "        [ 0.00767799,  0.00590402, -0.00120672]]),\n",
       " 0.0: array([[ 3.23846e-03,  6.83455e-05, -4.82199e-03],\n",
       "        [ 3.43797e-03, -1.23276e-05, -4.78144e-03],\n",
       "        [ 3.63752e-03, -1.14180e-04, -4.68594e-03],\n",
       "        ...,\n",
       "        [-8.59430e-05,  1.39842e-03, -6.56443e-03],\n",
       "        [-2.77466e-04,  1.57304e-03, -6.47633e-03],\n",
       "        [-4.56283e-04,  1.75135e-03, -6.38087e-03]])}"
      ]
     },
     "execution_count": 9,
     "metadata": {},
     "output_type": "execute_result"
    }
   ],
   "source": [
    "cond_chunk"
   ]
  },
  {
   "cell_type": "code",
   "execution_count": null,
   "id": "0ba7185d",
   "metadata": {},
   "outputs": [],
   "source": []
  }
 ],
 "metadata": {
  "kernelspec": {
   "display_name": "Python 3 (ipykernel)",
   "language": "python",
   "name": "python3"
  },
  "language_info": {
   "codemirror_mode": {
    "name": "ipython",
    "version": 3
   },
   "file_extension": ".py",
   "mimetype": "text/x-python",
   "name": "python",
   "nbconvert_exporter": "python",
   "pygments_lexer": "ipython3",
   "version": "3.9.12"
  }
 },
 "nbformat": 4,
 "nbformat_minor": 5
}
